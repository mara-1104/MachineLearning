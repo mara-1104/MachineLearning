{
 "cells": [
  {
   "cell_type": "code",
   "execution_count": 1,
   "id": "0c1ddd0b",
   "metadata": {},
   "outputs": [],
   "source": [
    "def AND_CLASSIC(x1, x2):\n",
    "    return int(x1 and x2)"
   ]
  },
  {
   "cell_type": "code",
   "execution_count": 3,
   "id": "de6ae4ff",
   "metadata": {},
   "outputs": [
    {
     "data": {
      "text/plain": [
       "(1, 0, 0, 0)"
      ]
     },
     "execution_count": 3,
     "metadata": {},
     "output_type": "execute_result"
    }
   ],
   "source": [
    "AND_CLASSIC(1, 1), AND_CLASSIC(1, 0), AND_CLASSIC(0, 1), AND_CLASSIC(0, 0)"
   ]
  },
  {
   "cell_type": "code",
   "execution_count": null,
   "id": "10031a91",
   "metadata": {},
   "outputs": [],
   "source": [
    "def activare(x):\n",
    "    return 0 if x <= 0 else 1"
   ]
  },
  {
   "cell_type": "code",
   "execution_count": 12,
   "id": "db4b1ea7",
   "metadata": {},
   "outputs": [
    {
     "data": {
      "text/plain": [
       "(1, 0, 0, 0)"
      ]
     },
     "execution_count": 12,
     "metadata": {},
     "output_type": "execute_result"
    }
   ],
   "source": [
    "def AND_NEURON(x1, x2):\n",
    "    # w1, w2, b = 5, 72, 18\n",
    "    w1, w2, b = 1, 1, -1.5\n",
    "    return activare(w1 * x1 + w2 * x2 +b)\n",
    "AND_NEURON(1, 1), AND_NEURON(1, 0), AND_NEURON(0, 1), AND_NEURON(0, 0)"
   ]
  },
  {
   "cell_type": "code",
   "execution_count": 13,
   "id": "5f2dff14",
   "metadata": {},
   "outputs": [
    {
     "data": {
      "text/plain": [
       "(1, 0, 0, 0)"
      ]
     },
     "execution_count": 13,
     "metadata": {},
     "output_type": "execute_result"
    }
   ],
   "source": [
    "def AND_NEURON(x1, x2):\n",
    "    return activare(1 * x1 + 1 * x2 -1.5)\n",
    "AND_NEURON(1, 1), AND_NEURON(1, 0), AND_NEURON(0, 1), AND_NEURON(0, 0)"
   ]
  },
  {
   "cell_type": "code",
   "execution_count": 16,
   "id": "25fc6305",
   "metadata": {},
   "outputs": [
    {
     "data": {
      "text/plain": [
       "(1, 1, 1, 0)"
      ]
     },
     "execution_count": 16,
     "metadata": {},
     "output_type": "execute_result"
    }
   ],
   "source": [
    "def OR_NEURON(x1, x2):\n",
    "    return activare(1 * x1 + 1 * x2 - 0.5)\n",
    "OR_NEURON(1, 1), OR_NEURON(1, 0), OR_NEURON(0, 1), OR_NEURON(0, 0)"
   ]
  }
 ],
 "metadata": {
  "kernelspec": {
   "display_name": "Python 3",
   "language": "python",
   "name": "python3"
  },
  "language_info": {
   "codemirror_mode": {
    "name": "ipython",
    "version": 3
   },
   "file_extension": ".py",
   "mimetype": "text/x-python",
   "name": "python",
   "nbconvert_exporter": "python",
   "pygments_lexer": "ipython3",
   "version": "3.13.5"
  }
 },
 "nbformat": 4,
 "nbformat_minor": 5
}
