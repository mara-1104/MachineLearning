{
 "cells": [
  {
   "cell_type": "code",
   "execution_count": null,
   "id": "db636441",
   "metadata": {},
   "outputs": [],
   "source": [
    "import pandas as pd"
   ]
  },
  {
   "cell_type": "code",
   "execution_count": null,
   "id": "ea1c5468",
   "metadata": {},
   "outputs": [],
   "source": [
    "df = pd.read_csv(\"puncte.csv\")\n",
    "df"
   ]
  },
  {
   "cell_type": "code",
   "execution_count": null,
   "id": "4958ea33",
   "metadata": {},
   "outputs": [],
   "source": [
    "import matplotlib.pyplot as plt"
   ]
  },
  {
   "cell_type": "code",
   "execution_count": null,
   "id": "7adf29e2",
   "metadata": {},
   "outputs": [],
   "source": [
    "plt.scatter(df[\"x\"], df[\"y\"], c=df[\"z\"]==\"a\")"
   ]
  }
 ],
 "metadata": {
  "language_info": {
   "name": "python"
  }
 },
 "nbformat": 4,
 "nbformat_minor": 5
}
