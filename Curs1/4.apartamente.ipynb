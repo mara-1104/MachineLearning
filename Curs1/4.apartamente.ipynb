{
 "cells": [
  {
   "cell_type": "code",
   "execution_count": 1,
   "id": "ed7b2921",
   "metadata": {},
   "outputs": [],
   "source": [
    "import numpy as np\n",
    "import matplotlib.pyplot as plt"
   ]
  },
  {
   "cell_type": "markdown",
   "id": "80b84a90",
   "metadata": {},
   "source": [
    "m2. pret"
   ]
  },
  {
   "cell_type": "code",
   "execution_count": 2,
   "id": "2610cc18",
   "metadata": {},
   "outputs": [
    {
     "name": "stdout",
     "output_type": "stream",
     "text": [
      "[[ 37  65]\n",
      " [ 55  80]\n",
      " [ 80 120]\n",
      " [ 60  95]\n",
      " [ 92 205]\n",
      " [ 41  75]\n",
      " [170 400]]\n"
     ]
    }
   ],
   "source": [
    "apartamente = [(37, 65), (55, 80), (80, 120), (60, 95), (92, 205), (41, 75), (170, 400)]\n",
    "\n",
    "apartamente = np.array(apartamente)\n",
    "print(apartamente)"
   ]
  },
  {
   "cell_type": "code",
   "execution_count": 3,
   "id": "34a95954",
   "metadata": {},
   "outputs": [
    {
     "data": {
      "text/plain": [
       "np.int64(120)"
      ]
     },
     "execution_count": 3,
     "metadata": {},
     "output_type": "execute_result"
    }
   ],
   "source": [
    "apartamente[2, 1]"
   ]
  },
  {
   "cell_type": "code",
   "execution_count": 5,
   "id": "93cd5241",
   "metadata": {},
   "outputs": [
    {
     "data": {
      "text/plain": [
       "array([ 65,  80, 120,  95, 205,  75, 400])"
      ]
     },
     "execution_count": 5,
     "metadata": {},
     "output_type": "execute_result"
    }
   ],
   "source": [
    "preturi = apartamente[:,1]\n",
    "preturi"
   ]
  },
  {
   "cell_type": "code",
   "execution_count": 6,
   "id": "3878da46",
   "metadata": {},
   "outputs": [
    {
     "data": {
      "text/plain": [
       "array([ 37,  55,  80,  60,  92,  41, 170])"
      ]
     },
     "execution_count": 6,
     "metadata": {},
     "output_type": "execute_result"
    }
   ],
   "source": [
    "suprafete = apartamente[:, 0]\n",
    "suprafete"
   ]
  },
  {
   "cell_type": "code",
   "execution_count": 8,
   "id": "1b32e648",
   "metadata": {},
   "outputs": [
    {
     "data": {
      "image/png": "[encoded data removed]",
      "text/plain": [
       "<Figure size 640x480 with 1 Axes>"
      ]
     },
     "metadata": {},
     "output_type": "display_data"
    }
   ],
   "source": [
    "plt.scatter(suprafete, preturi);"
   ]
  },
  {
   "cell_type": "code",
   "execution_count": null,
   "id": "6d7b65d4",
   "metadata": {},
   "outputs": [],
   "source": [
    "plt.rcParams[\"figure.figsize\"]"
   ]
  },
  {
   "cell_type": "code",
   "execution_count": null,
   "id": "c5e40f97",
   "metadata": {},
   "outputs": [],
   "source": [
    "\n",
    "plt.rcParams[\"figure.figsize\"] = [3.3, 3.3]"
   ]
  },
  {
   "cell_type": "code",
   "execution_count": null,
   "id": "97af94e5",
   "metadata": {},
   "outputs": [],
   "source": [
    "plt.scatter(suprafete, preturi);"
   ]
  },
  {
   "cell_type": "code",
   "execution_count": null,
   "id": "39c2b2fe",
   "metadata": {},
   "outputs": [],
   "source": [
    "plt.plot(suprafete, preturi);"
   ]
  },
  {
   "cell_type": "code",
   "execution_count": null,
   "id": "46450720",
   "metadata": {},
   "outputs": [],
   "source": [
    "apartamente = apartamente[apartamente[:, 0].argsort()]\n",
    "apartamente\n",
    "\n",
    "preturi = apartamente[ : , 1]\n",
    "suprafete = apartamente[ : , 0]"
   ]
  },
  {
   "cell_type": "code",
   "execution_count": null,
   "id": "724dd7c4",
   "metadata": {},
   "outputs": [],
   "source": [
    "plt.plot(suprafete, preturi)"
   ]
  },
  {
   "cell_type": "code",
   "execution_count": null,
   "id": "95f4251f",
   "metadata": {},
   "outputs": [],
   "source": [
    "plt.plot(suprafete, preturi)\n",
    "plt.scatter(suprafete, preturi, c=\"red\");"
   ]
  },
  {
   "cell_type": "code",
   "execution_count": null,
   "id": "e82e8ddf",
   "metadata": {},
   "outputs": [],
   "source": [
    "plt.plot(suprafete, preturi)\n",
    "plt.scatter(suprafete, preturi, c=\"red\");\n",
    "plt.xlabel(\"Suprafete\")\n",
    "plt.ylabel(\"Preturi\")"
   ]
  },
  {
   "cell_type": "code",
   "execution_count": null,
   "id": "9c562be2",
   "metadata": {},
   "outputs": [],
   "source": [
    "def f(x):\n",
    "    a = 2\n",
    "    b = 50\n",
    "    return a * x + b\n",
    "\n",
    "\n",
    "preturi_generate_cu_f = np.array(list(map(f, suprafete)))\n",
    "preturi_generate_cu_f\n",
    "\n",
    "plt.plot(suprafete, preturi)\n",
    "plt.plot(suprafete, preturi_generate_cu_f)\n",
    "plt.scatter(suprafete, preturi, c=\"red\");\n",
    "\n",
    "\n",
    "\n",
    "plt.xlabel(\"Suprafete\")\n",
    "plt.ylabel(\"Preturi\")"
   ]
  },
  {
   "cell_type": "code",
   "execution_count": null,
   "id": "581255ea",
   "metadata": {},
   "outputs": [],
   "source": [
    "def f(x):\n",
    "    a = 2.3\n",
    "    b = 5\n",
    "    return a * x + b\n",
    "\n",
    "\n",
    "preturi_generate_cu_f = np.array(list(map(f, suprafete)))\n",
    "preturi_generate_cu_f\n",
    "\n",
    "plt.plot(suprafete, preturi)\n",
    "plt.plot(suprafete, preturi_generate_cu_f)\n",
    "plt.scatter(suprafete, preturi, c=\"red\");\n",
    "\n",
    "\n",
    "\n",
    "plt.xlabel(\"Suprafete\")\n",
    "plt.ylabel(\"Preturi\")"
   ]
  },
  {
   "cell_type": "code",
   "execution_count": null,
   "id": "f285a48d",
   "metadata": {},
   "outputs": [],
   "source": [
    "\n",
    "def f(x):\n",
    "    a = 2.2\n",
    "    b = 5\n",
    "    return a * x + b\n",
    "\n",
    "\n",
    "preturi_generate_cu_f = np.array(list(map(f, suprafete)))\n",
    "preturi_generate_cu_f\n",
    "\n",
    "plt.plot(suprafete, preturi)\n",
    "plt.plot(suprafete, preturi_generate_cu_f)\n",
    "plt.scatter(suprafete, preturi, c=\"red\");\n",
    "\n",
    "\n",
    "\n",
    "plt.xlabel(\"Suprafete\")\n",
    "plt.ylabel(\"Preturi\")"
   ]
  },
  {
   "cell_type": "code",
   "execution_count": null,
   "id": "86ff42ba",
   "metadata": {},
   "outputs": [],
   "source": [
    "s = 125\n",
    "f(s)"
   ]
  },
  {
   "cell_type": "code",
   "execution_count": null,
   "id": "4cbc87e0",
   "metadata": {},
   "outputs": [],
   "source": [
    "def f1(x):\n",
    "    a = 2.2\n",
    "    b = 5\n",
    "    return a * x + b\n",
    "\n",
    "preturi_generate_cu_f_1 = np.array(list(map(f1, suprafete)))\n",
    "preturi_generate_cu_f_1\n",
    "plt.plot(suprafete, preturi_generate_cu_f_1, c=\"gray\")\n",
    "\n",
    "\n",
    "def f2(x):\n",
    "    a = 1.9\n",
    "    b = -2\n",
    "    return a * x + b\n",
    "\n",
    "preturi_generate_cu_f_2 = np.array(list(map(f2, suprafete)))\n",
    "preturi_generate_cu_f_2\n",
    "\n",
    "\n",
    "plt.plot(suprafete, preturi_generate_cu_f_2, c=\"lime\")\n",
    "\n",
    "\n",
    "plt.plot(suprafete, preturi, c=\"blue\")\n",
    "\n",
    "plt.scatter(suprafete, preturi, c=\"red\");\n",
    "\n",
    "\n",
    "\n",
    "plt.xlabel(\"Suprafete\")\n",
    "plt.ylabel(\"Preturi\")"
   ]
  },
  {
   "cell_type": "code",
   "execution_count": null,
   "id": "64d0e360",
   "metadata": {},
   "outputs": [],
   "source": [
    "\n",
    "from scipy import stats"
   ]
  },
  {
   "cell_type": "code",
   "execution_count": null,
   "id": "86974594",
   "metadata": {},
   "outputs": [],
   "source": [
    "rezultat = stats.linregress(suprafete, preturi)\n",
    "rezultat"
   ]
  },
  {
   "cell_type": "code",
   "execution_count": null,
   "id": "ea39176d",
   "metadata": {},
   "outputs": [],
   "source": [
    "def f_perfect(x):\n",
    "    a = rezultat.slope\n",
    "    b = rezultat.intercept\n",
    "    return a * x + b\n",
    "\n",
    "preturi_generate_cu_f_perfect = np.array(list(map(f_perfect, suprafete)))\n",
    "preturi_generate_cu_f_perfect\n",
    "plt.plot(suprafete, preturi_generate_cu_f_perfect, c=\"red\")\n",
    "\n",
    "\n",
    "def f1(x):\n",
    "    a = 2.2\n",
    "    b = 5\n",
    "    return a * x + b\n",
    "\n",
    "preturi_generate_cu_f_1 = np.array(list(map(f1, suprafete)))\n",
    "preturi_generate_cu_f_1\n",
    "plt.plot(suprafete, preturi_generate_cu_f_1, c=\"gray\")\n",
    "\n",
    "\n",
    "def f2(x):\n",
    "    a = 1.9\n",
    "    b = -2\n",
    "    return a * x + b\n",
    "\n",
    "preturi_generate_cu_f_2 = np.array(list(map(f2, suprafete)))\n",
    "preturi_generate_cu_f_2\n",
    "\n",
    "\n",
    "plt.plot(suprafete, preturi_generate_cu_f_2, c=\"lime\")\n",
    "\n",
    "\n",
    "plt.plot(suprafete, preturi, c=\"blue\")\n",
    "\n",
    "plt.scatter(suprafete, preturi, c=\"red\");\n",
    "\n",
    "\n",
    "\n",
    "plt.xlabel(\"Suprafete\")\n",
    "plt.ylabel(\"Preturi\")"
   ]
  }
 ],
 "metadata": {
  "kernelspec": {
   "display_name": "Python 3",
   "language": "python",
   "name": "python3"
  },
  "language_info": {
   "codemirror_mode": {
    "name": "ipython",
    "version": 3
   },
   "file_extension": ".py",
   "mimetype": "text/x-python",
   "name": "python",
   "nbconvert_exporter": "python",
   "pygments_lexer": "ipython3",
   "version": "3.13.0"
  }
 },
 "nbformat": 4,
 "nbformat_minor": 5
}
