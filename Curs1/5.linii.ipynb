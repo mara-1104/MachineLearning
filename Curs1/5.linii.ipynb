{
 "cells": [
  {
   "cell_type": "code",
   "execution_count": null,
   "id": "2e8e3755",
   "metadata": {},
   "outputs": [],
   "source": [
    "\n",
    "import numpy as np\n",
    "import matplotlib.pyplot as plt"
   ]
  },
  {
   "cell_type": "code",
   "execution_count": null,
   "id": "52a31ec5",
   "metadata": {},
   "outputs": [],
   "source": [
    "def f(x):\n",
    "    a = 0\n",
    "    b = 0\n",
    "    return a * x + b\n",
    "\n",
    "\n",
    "suprafete = np.arange(40, 51)\n",
    "suprafete"
   ]
  },
  {
   "cell_type": "code",
   "execution_count": null,
   "id": "840d16f6",
   "metadata": {},
   "outputs": [],
   "source": [
    "preturi = []\n",
    "for s in suprafete:\n",
    "    preturi.append(f(s))\n",
    "\n",
    "print(preturi)"
   ]
  },
  {
   "cell_type": "code",
   "execution_count": null,
   "id": "035deb4e",
   "metadata": {},
   "outputs": [],
   "source": [
    "def f(x):\n",
    "    a = 0\n",
    "    b = 0\n",
    "    return a * x + b\n",
    "\n",
    "\n",
    "suprafete = np.arange(40, 51)\n",
    "suprafete\n",
    "\n",
    "preturi = np.array( list(map(f, suprafete) ))\n",
    "preturi"
   ]
  },
  {
   "cell_type": "code",
   "execution_count": null,
   "id": "31e5f00e",
   "metadata": {},
   "outputs": [],
   "source": [
    "def f(x):\n",
    "    a = 0\n",
    "    b = 0\n",
    "    return a * x + b\n",
    "\n",
    "\n",
    "suprafete = np.arange(40, 51)\n",
    "preturi = np.array( list(map(f, suprafete) ))\n",
    "\n",
    "plt.scatter(suprafete, preturi)\n",
    "plt.plot(suprafete, preturi);"
   ]
  },
  {
   "cell_type": "code",
   "execution_count": null,
   "id": "b7e160f1",
   "metadata": {},
   "outputs": [],
   "source": [
    "def f(x):\n",
    "    a = 0\n",
    "    b = 0\n",
    "    return a * x + b\n",
    "\n",
    "\n",
    "suprafete = np.arange(40, 51)\n",
    "preturi = np.array( list(map(f, suprafete) ))\n",
    "\n",
    "plt.scatter(suprafete, preturi)\n",
    "plt.plot(suprafete, preturi);\n",
    "plt.ylim(bottom=0)\n",
    "plt.xlim(left=0)"
   ]
  },
  {
   "cell_type": "code",
   "execution_count": null,
   "id": "6f28b4b0",
   "metadata": {},
   "outputs": [],
   "source": [
    "def f(x):\n",
    "    a = 0\n",
    "    b = 2\n",
    "    return a * x + b\n",
    "\n",
    "\n",
    "suprafete = np.arange(40, 51)\n",
    "preturi = np.array( list(map(f, suprafete) ))\n",
    "\n",
    "plt.scatter(suprafete, preturi)\n",
    "plt.plot(suprafete, preturi);"
   ]
  },
  {
   "cell_type": "code",
   "execution_count": null,
   "id": "de829d4b",
   "metadata": {},
   "outputs": [],
   "source": [
    "def f(x):\n",
    "    a = 1\n",
    "    b = 2\n",
    "    return a * x + b\n",
    "\n",
    "\n",
    "suprafete = np.arange(40, 51)\n",
    "preturi = np.array( list(map(f, suprafete) ))\n",
    "\n",
    "plt.scatter(suprafete, preturi)\n",
    "plt.plot(suprafete, preturi);"
   ]
  },
  {
   "cell_type": "code",
   "execution_count": null,
   "id": "1593a476",
   "metadata": {},
   "outputs": [],
   "source": [
    "def f(x):\n",
    "    a = -1\n",
    "    b = 2\n",
    "    return a * x + b\n",
    "\n",
    "\n",
    "suprafete = np.arange(40, 51)\n",
    "preturi = np.array( list(map(f, suprafete) ))\n",
    "\n",
    "plt.scatter(suprafete, preturi)\n",
    "plt.plot(suprafete, preturi);"
   ]
  },
  {
   "cell_type": "code",
   "execution_count": null,
   "id": "b761d74b",
   "metadata": {},
   "outputs": [],
   "source": [
    "def f(x):\n",
    "    a = 4\n",
    "    b = 2\n",
    "    return a * x + b\n",
    "\n",
    "\n",
    "suprafete = np.arange(40, 51)\n",
    "preturi = np.array( list(map(f, suprafete) ))\n",
    "\n",
    "plt.scatter(suprafete, preturi)\n",
    "plt.plot(suprafete, preturi);\n",
    "plt.xlim(left=0, right=200)\n",
    "plt.ylim(bottom=0)"
   ]
  }
 ],
 "metadata": {
  "language_info": {
   "name": "python"
  }
 },
 "nbformat": 4,
 "nbformat_minor": 5
}
